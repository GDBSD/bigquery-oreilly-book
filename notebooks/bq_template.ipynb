{
 "cells": [
  {
   "cell_type": "markdown",
   "id": "7321d4ed",
   "metadata": {},
   "source": [
    "## Example BigQuery Notebook"
   ]
  },
  {
   "cell_type": "code",
   "execution_count": null,
   "id": "15326f63",
   "metadata": {},
   "outputs": [],
   "source": [
    "# This will update sys.path so you can import modules from any folder in the application.\n",
    "# The response from running the cell should be the path to the top level folder for this project.\n",
    "import path_setter"
   ]
  },
  {
   "cell_type": "code",
   "execution_count": null,
   "id": "0e954f1d",
   "metadata": {},
   "outputs": [],
   "source": [
    "import gcp_config\n",
    "import pandas"
   ]
  },
  {
   "cell_type": "code",
   "execution_count": null,
   "id": "cb54c875",
   "metadata": {},
   "outputs": [],
   "source": [
    "from google.cloud import bigquery"
   ]
  },
  {
   "cell_type": "code",
   "execution_count": null,
   "id": "05e35923",
   "metadata": {},
   "outputs": [],
   "source": [
    "PROJECT = gcp_config.PROJ_ID"
   ]
  },
  {
   "cell_type": "code",
   "execution_count": null,
   "id": "4534fc22",
   "metadata": {},
   "outputs": [],
   "source": [
    "client = bigquery.Client(project=PROJECT)"
   ]
  },
  {
   "cell_type": "code",
   "execution_count": null,
   "id": "98a049f4",
   "metadata": {},
   "outputs": [],
   "source": [
    "query = f'''\n",
    "    SELECT name, SUM(number) as count\n",
    "    FROM `bigquery-public-data.usa_names.usa_1910_current`\n",
    "    GROUP BY name\n",
    "    ORDER BY count DESC\n",
    "    LIMIT 10\n",
    "'''\n",
    "df = client.query(query).result().to_dataframe()"
   ]
  },
  {
   "cell_type": "code",
   "execution_count": null,
   "id": "10df936e",
   "metadata": {},
   "outputs": [],
   "source": [
    "print(df.head())"
   ]
  }
 ],
 "metadata": {
  "kernelspec": {
   "display_name": "Python 3 (ipykernel)",
   "language": "python",
   "name": "python3"
  },
  "language_info": {
   "codemirror_mode": {
    "name": "ipython",
    "version": 3
   },
   "file_extension": ".py",
   "mimetype": "text/x-python",
   "name": "python",
   "nbconvert_exporter": "python",
   "pygments_lexer": "ipython3",
   "version": "3.8.9"
  }
 },
 "nbformat": 4,
 "nbformat_minor": 5
}
