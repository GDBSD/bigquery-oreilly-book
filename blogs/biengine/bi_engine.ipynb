{
 "cells": [
  {
   "cell_type": "markdown",
   "metadata": {},
   "source": [
    "## Speeding up BigQuery queries with BI Engine\n",
    "\n",
    "To speed up small queries in BigQuery, simply turn on BI Engine.\n",
    "The Client API remains exactly the same.\n",
    "\n",
    "Accompanies https://medium.com/@lakshmanok/speeding-up-small-queries-in-bigquery-with-bi-engine-4ac8420a2ef0\n",
    "\n",
    "#### Queries"
   ]
  },
  {
   "cell_type": "code",
   "execution_count": 1,
   "metadata": {},
   "outputs": [],
   "source": [
    "from google.cloud import bigquery\n",
    "from timeit import default_timer as timer\n",
    "from datetime import timedelta\n",
    "\n",
    "def show_query(query):\n",
    "    client = bigquery.Client()\n",
    "    query_job = client.query(query)\n",
    "    return query_job.result().to_dataframe()"
   ]
  },
  {
   "cell_type": "markdown",
   "metadata": {},
   "source": [
    "This query finds the most common names by state."
   ]
  },
  {
   "cell_type": "code",
   "execution_count": 15,
   "metadata": {},
   "outputs": [
    {
     "data": {
      "text/html": [
       "<div>\n",
       "<style scoped>\n",
       "    .dataframe tbody tr th:only-of-type {\n",
       "        vertical-align: middle;\n",
       "    }\n",
       "\n",
       "    .dataframe tbody tr th {\n",
       "        vertical-align: top;\n",
       "    }\n",
       "\n",
       "    .dataframe thead th {\n",
       "        text-align: right;\n",
       "    }\n",
       "</style>\n",
       "<table border=\"1\" class=\"dataframe\">\n",
       "  <thead>\n",
       "    <tr style=\"text-align: right;\">\n",
       "      <th></th>\n",
       "      <th>name</th>\n",
       "      <th>state</th>\n",
       "      <th>total_people</th>\n",
       "    </tr>\n",
       "  </thead>\n",
       "  <tbody>\n",
       "    <tr>\n",
       "      <th>0</th>\n",
       "      <td>John</td>\n",
       "      <td>NY</td>\n",
       "      <td>494388</td>\n",
       "    </tr>\n",
       "    <tr>\n",
       "      <th>1</th>\n",
       "      <td>Robert</td>\n",
       "      <td>NY</td>\n",
       "      <td>439191</td>\n",
       "    </tr>\n",
       "    <tr>\n",
       "      <th>2</th>\n",
       "      <td>Michael</td>\n",
       "      <td>NY</td>\n",
       "      <td>432493</td>\n",
       "    </tr>\n",
       "    <tr>\n",
       "      <th>3</th>\n",
       "      <td>Michael</td>\n",
       "      <td>CA</td>\n",
       "      <td>422555</td>\n",
       "    </tr>\n",
       "    <tr>\n",
       "      <th>4</th>\n",
       "      <td>John</td>\n",
       "      <td>PA</td>\n",
       "      <td>418333</td>\n",
       "    </tr>\n",
       "    <tr>\n",
       "      <th>5</th>\n",
       "      <td>David</td>\n",
       "      <td>CA</td>\n",
       "      <td>364313</td>\n",
       "    </tr>\n",
       "    <tr>\n",
       "      <th>6</th>\n",
       "      <td>Robert</td>\n",
       "      <td>PA</td>\n",
       "      <td>351959</td>\n",
       "    </tr>\n",
       "    <tr>\n",
       "      <th>7</th>\n",
       "      <td>Robert</td>\n",
       "      <td>CA</td>\n",
       "      <td>348162</td>\n",
       "    </tr>\n",
       "    <tr>\n",
       "      <th>8</th>\n",
       "      <td>James</td>\n",
       "      <td>NY</td>\n",
       "      <td>340430</td>\n",
       "    </tr>\n",
       "    <tr>\n",
       "      <th>9</th>\n",
       "      <td>Joseph</td>\n",
       "      <td>NY</td>\n",
       "      <td>339021</td>\n",
       "    </tr>\n",
       "  </tbody>\n",
       "</table>\n",
       "</div>"
      ],
      "text/plain": [
       "      name state  total_people\n",
       "0     John    NY        494388\n",
       "1   Robert    NY        439191\n",
       "2  Michael    NY        432493\n",
       "3  Michael    CA        422555\n",
       "4     John    PA        418333\n",
       "5    David    CA        364313\n",
       "6   Robert    PA        351959\n",
       "7   Robert    CA        348162\n",
       "8    James    NY        340430\n",
       "9   Joseph    NY        339021"
      ]
     },
     "execution_count": 15,
     "metadata": {},
     "output_type": "execute_result"
    }
   ],
   "source": [
    "NAME_BY_STATE=\"\"\"\n",
    "    SELECT name, state, SUM(number) as total_people\n",
    "    FROM `bigquery-public-data.usa_names.usa_1910_2013`\n",
    "    GROUP BY name, state\n",
    "    ORDER BY total_people DESC\n",
    "    LIMIT 10\n",
    "\"\"\"\n",
    "show_query(NAME_BY_STATE)"
   ]
  },
  {
   "cell_type": "markdown",
   "metadata": {},
   "source": [
    "This query is more complex and finds the highest relative-frequency names by state."
   ]
  },
  {
   "cell_type": "code",
   "execution_count": 3,
   "metadata": {},
   "outputs": [
    {
     "data": {
      "text/html": [
       "<div>\n",
       "<style scoped>\n",
       "    .dataframe tbody tr th:only-of-type {\n",
       "        vertical-align: middle;\n",
       "    }\n",
       "\n",
       "    .dataframe tbody tr th {\n",
       "        vertical-align: top;\n",
       "    }\n",
       "\n",
       "    .dataframe thead th {\n",
       "        text-align: right;\n",
       "    }\n",
       "</style>\n",
       "<table border=\"1\" class=\"dataframe\">\n",
       "  <thead>\n",
       "    <tr style=\"text-align: right;\">\n",
       "      <th></th>\n",
       "      <th>name</th>\n",
       "      <th>state</th>\n",
       "      <th>rel_freq</th>\n",
       "    </tr>\n",
       "  </thead>\n",
       "  <tbody>\n",
       "    <tr>\n",
       "      <th>0</th>\n",
       "      <td>James</td>\n",
       "      <td>SC</td>\n",
       "      <td>0.028909</td>\n",
       "    </tr>\n",
       "    <tr>\n",
       "      <th>1</th>\n",
       "      <td>James</td>\n",
       "      <td>MS</td>\n",
       "      <td>0.028827</td>\n",
       "    </tr>\n",
       "    <tr>\n",
       "      <th>2</th>\n",
       "      <td>James</td>\n",
       "      <td>AL</td>\n",
       "      <td>0.027832</td>\n",
       "    </tr>\n",
       "    <tr>\n",
       "      <th>3</th>\n",
       "      <td>James</td>\n",
       "      <td>TN</td>\n",
       "      <td>0.027124</td>\n",
       "    </tr>\n",
       "    <tr>\n",
       "      <th>4</th>\n",
       "      <td>James</td>\n",
       "      <td>KY</td>\n",
       "      <td>0.026861</td>\n",
       "    </tr>\n",
       "    <tr>\n",
       "      <th>5</th>\n",
       "      <td>John</td>\n",
       "      <td>MA</td>\n",
       "      <td>0.026169</td>\n",
       "    </tr>\n",
       "    <tr>\n",
       "      <th>6</th>\n",
       "      <td>John</td>\n",
       "      <td>RI</td>\n",
       "      <td>0.025709</td>\n",
       "    </tr>\n",
       "    <tr>\n",
       "      <th>7</th>\n",
       "      <td>James</td>\n",
       "      <td>WV</td>\n",
       "      <td>0.025554</td>\n",
       "    </tr>\n",
       "    <tr>\n",
       "      <th>8</th>\n",
       "      <td>James</td>\n",
       "      <td>AR</td>\n",
       "      <td>0.025540</td>\n",
       "    </tr>\n",
       "    <tr>\n",
       "      <th>9</th>\n",
       "      <td>John</td>\n",
       "      <td>PA</td>\n",
       "      <td>0.025107</td>\n",
       "    </tr>\n",
       "  </tbody>\n",
       "</table>\n",
       "</div>"
      ],
      "text/plain": [
       "    name state  rel_freq\n",
       "0  James    SC  0.028909\n",
       "1  James    MS  0.028827\n",
       "2  James    AL  0.027832\n",
       "3  James    TN  0.027124\n",
       "4  James    KY  0.026861\n",
       "5   John    MA  0.026169\n",
       "6   John    RI  0.025709\n",
       "7  James    WV  0.025554\n",
       "8  James    AR  0.025540\n",
       "9   John    PA  0.025107"
      ]
     },
     "execution_count": 3,
     "metadata": {},
     "output_type": "execute_result"
    }
   ],
   "source": [
    "NAME_RELFREQ=\"\"\"\n",
    "    WITH num_babies_in_state AS (\n",
    "      SELECT \n",
    "         state,\n",
    "         SUM(number) as total_people\n",
    "      FROM `bigquery-public-data.usa_names.usa_1910_2013`\n",
    "      GROUP BY state\n",
    "    )\n",
    "\n",
    "    SELECT \n",
    "       name,\n",
    "       state,\n",
    "       SUM(number/total_people) as rel_freq\n",
    "    FROM `bigquery-public-data.usa_names.usa_1910_2013`\n",
    "    JOIN num_babies_in_state USING(state)\n",
    "    GROUP BY name, state\n",
    "    ORDER BY rel_freq DESC\n",
    "    LIMIT 10\n",
    "\"\"\"\n",
    "show_query(NAME_RELFREQ)"
   ]
  },
  {
   "cell_type": "markdown",
   "metadata": {},
   "source": [
    "This query uses a discrete number for grouping and will be inherently faster than the names queries (which use strings).\n",
    "This query finds the sites with the worst (on average) air quality"
   ]
  },
  {
   "cell_type": "code",
   "execution_count": 6,
   "metadata": {},
   "outputs": [
    {
     "data": {
      "text/html": [
       "<div>\n",
       "<style scoped>\n",
       "    .dataframe tbody tr th:only-of-type {\n",
       "        vertical-align: middle;\n",
       "    }\n",
       "\n",
       "    .dataframe tbody tr th {\n",
       "        vertical-align: top;\n",
       "    }\n",
       "\n",
       "    .dataframe thead th {\n",
       "        text-align: right;\n",
       "    }\n",
       "</style>\n",
       "<table border=\"1\" class=\"dataframe\">\n",
       "  <thead>\n",
       "    <tr style=\"text-align: right;\">\n",
       "      <th></th>\n",
       "      <th>site_num</th>\n",
       "      <th>state</th>\n",
       "      <th>air_quality_index</th>\n",
       "    </tr>\n",
       "  </thead>\n",
       "  <tbody>\n",
       "    <tr>\n",
       "      <th>0</th>\n",
       "      <td>8012</td>\n",
       "      <td>Country Of Mexico</td>\n",
       "      <td>81.027027</td>\n",
       "    </tr>\n",
       "    <tr>\n",
       "      <th>1</th>\n",
       "      <td>3013</td>\n",
       "      <td>Arizona</td>\n",
       "      <td>68.102236</td>\n",
       "    </tr>\n",
       "    <tr>\n",
       "      <th>2</th>\n",
       "      <td>7030</td>\n",
       "      <td>Arizona</td>\n",
       "      <td>61.595819</td>\n",
       "    </tr>\n",
       "    <tr>\n",
       "      <th>3</th>\n",
       "      <td>3015</td>\n",
       "      <td>Arizona</td>\n",
       "      <td>57.420390</td>\n",
       "    </tr>\n",
       "    <tr>\n",
       "      <th>4</th>\n",
       "      <td>0241</td>\n",
       "      <td>California</td>\n",
       "      <td>54.416667</td>\n",
       "    </tr>\n",
       "    <tr>\n",
       "      <th>5</th>\n",
       "      <td>3008</td>\n",
       "      <td>Pennsylvania</td>\n",
       "      <td>51.125606</td>\n",
       "    </tr>\n",
       "    <tr>\n",
       "      <th>6</th>\n",
       "      <td>0149</td>\n",
       "      <td>Pennsylvania</td>\n",
       "      <td>49.254864</td>\n",
       "    </tr>\n",
       "    <tr>\n",
       "      <th>7</th>\n",
       "      <td>1999</td>\n",
       "      <td>California</td>\n",
       "      <td>48.589238</td>\n",
       "    </tr>\n",
       "    <tr>\n",
       "      <th>8</th>\n",
       "      <td>2306</td>\n",
       "      <td>Guam</td>\n",
       "      <td>46.846154</td>\n",
       "    </tr>\n",
       "    <tr>\n",
       "      <th>9</th>\n",
       "      <td>3011</td>\n",
       "      <td>Arizona</td>\n",
       "      <td>45.814396</td>\n",
       "    </tr>\n",
       "  </tbody>\n",
       "</table>\n",
       "</div>"
      ],
      "text/plain": [
       "  site_num              state  air_quality_index\n",
       "0     8012  Country Of Mexico          81.027027\n",
       "1     3013            Arizona          68.102236\n",
       "2     7030            Arizona          61.595819\n",
       "3     3015            Arizona          57.420390\n",
       "4     0241         California          54.416667\n",
       "5     3008       Pennsylvania          51.125606\n",
       "6     0149       Pennsylvania          49.254864\n",
       "7     1999         California          48.589238\n",
       "8     2306               Guam          46.846154\n",
       "9     3011            Arizona          45.814396"
      ]
     },
     "execution_count": 6,
     "metadata": {},
     "output_type": "execute_result"
    }
   ],
   "source": [
    "AIR_QUALITY=\"\"\"\n",
    "            SELECT\n",
    "               site_num,\n",
    "               ANY_VALUE(state_name) AS state,\n",
    "               AVG(aqi) as air_quality_index,\n",
    "            FROM `bigquery-public-data.epa_historical_air_quality.pm10_daily_summary`\n",
    "            GROUP BY site_num\n",
    "            ORDER BY air_quality_index DESC\n",
    "            LIMIT 10\n",
    "\"\"\"\n",
    "show_query(AIR_QUALITY)"
   ]
  },
  {
   "cell_type": "markdown",
   "metadata": {},
   "source": [
    "### Without BI Engine\n",
    "\n",
    "Time it. Note that I am measuring the time taken on the server\n",
    "using query_job.started and query_job.ended.\n",
    "This takes out variability due to the time it takes to send the query\n",
    "over the network to the BigQuery API."
   ]
  },
  {
   "cell_type": "code",
   "execution_count": 8,
   "metadata": {},
   "outputs": [],
   "source": [
    "from google.cloud import bigquery\n",
    "from timeit import default_timer as timer\n",
    "from datetime import timedelta\n",
    "\n",
    "# Construct a BigQuery client object.\n",
    "client = bigquery.Client()\n",
    "\n",
    "def run_query(query, n=5):\n",
    "    tot_slotmillis, tot_timeelapsed = 0, timedelta(0)\n",
    "    for iter in range(n):\n",
    "        query_job = client.query(query, bigquery.job.QueryJobConfig(use_query_cache=False))\n",
    "        df = query_job.result().to_dataframe()\n",
    "        tot_timeelapsed += (query_job.ended - query_job.started)\n",
    "        tot_slotmillis += query_job.slot_millis\n",
    "    print(\"Job stat: slot_mills={} server_time={}\".format(tot_slotmillis/n, tot_timeelapsed/n))"
   ]
  },
  {
   "cell_type": "markdown",
   "metadata": {},
   "source": [
    "Here, I'm running the query without BI Engine turned on."
   ]
  },
  {
   "cell_type": "code",
   "execution_count": 18,
   "metadata": {},
   "outputs": [
    {
     "name": "stdout",
     "output_type": "stream",
     "text": [
      "Job stat: slot_mills=4052.2 server_time=0:00:03.902200\n"
     ]
    }
   ],
   "source": [
    "run_query(NAME_BY_STATE)"
   ]
  },
  {
   "cell_type": "code",
   "execution_count": 19,
   "metadata": {},
   "outputs": [
    {
     "name": "stdout",
     "output_type": "stream",
     "text": [
      "Job stat: slot_mills=11572.8 server_time=0:00:05.105800\n"
     ]
    }
   ],
   "source": [
    "run_query(NAME_RELFREQ)"
   ]
  },
  {
   "cell_type": "code",
   "execution_count": 20,
   "metadata": {},
   "outputs": [
    {
     "name": "stdout",
     "output_type": "stream",
     "text": [
      "Job stat: slot_mills=1200.8 server_time=0:00:01.003200\n"
     ]
    }
   ],
   "source": [
    "run_query(AIR_QUALITY)"
   ]
  },
  {
   "cell_type": "markdown",
   "metadata": {},
   "source": [
    "The slot milliseconds is a proxy for the cost if you have a reservation -- it measures how much your BigQuery slots are getting used.\n",
    "The server_time is the time taken to process the request (we don't measure the network roundtrip time because it's going to be the\n",
    "same whether or not you use BI Engine).\n",
    "\n",
    "### With BI Engine\n",
    "\n",
    "Then, I went to the web console and turned on a 1 GB BI Engine reservation (monthly cost: $30).\n",
    "Note: It seems to take about 3 minutes for the memory to become available, so this is something\n",
    "you should consider doing for a few hours at least, not on a per-query basis."
   ]
  },
  {
   "cell_type": "code",
   "execution_count": 21,
   "metadata": {},
   "outputs": [
    {
     "name": "stdout",
     "output_type": "stream",
     "text": [
      "Job stat: slot_mills=1846.8 server_time=0:00:01.634400\n"
     ]
    }
   ],
   "source": [
    "run_query(NAME_BY_STATE)"
   ]
  },
  {
   "cell_type": "code",
   "execution_count": 22,
   "metadata": {},
   "outputs": [
    {
     "name": "stdout",
     "output_type": "stream",
     "text": [
      "Job stat: slot_mills=9884.0 server_time=0:00:05.075800\n"
     ]
    }
   ],
   "source": [
    "run_query(NAME_RELFREQ)"
   ]
  },
  {
   "cell_type": "code",
   "execution_count": 23,
   "metadata": {},
   "outputs": [
    {
     "name": "stdout",
     "output_type": "stream",
     "text": [
      "Job stat: slot_mills=94.6 server_time=0:00:00.254400\n"
     ]
    }
   ],
   "source": [
    "run_query(AIR_QUALITY)"
   ]
  },
  {
   "cell_type": "markdown",
   "metadata": {},
   "source": [
    "As you can see, I got anywhere from a 1.5x to 10x speedup! My code did not change."
   ]
  },
  {
   "cell_type": "markdown",
   "metadata": {},
   "source": [
    "Copyright 2021 Google Inc. Licensed under the Apache License, Version 2.0 (the \"License\"); you may not use this file except in compliance with the License. You may obtain a copy of the License at http://www.apache.org/licenses/LICENSE-2.0 Unless required by applicable law or agreed to in writing, software distributed under the License is distributed on an \"AS IS\" BASIS, WITHOUT WARRANTIES OR CONDITIONS OF ANY KIND, either express or implied. See the License for the specific language governing permissions and limitations under the License"
   ]
  }
 ],
 "metadata": {
  "environment": {
   "name": "tf2-2-3-gpu.2-3.m59",
   "type": "gcloud",
   "uri": "gcr.io/deeplearning-platform-release/tf2-2-3-gpu.2-3:m59"
  },
  "kernelspec": {
   "display_name": "Python 3",
   "language": "python",
   "name": "python3"
  },
  "language_info": {
   "codemirror_mode": {
    "name": "ipython",
    "version": 3
   },
   "file_extension": ".py",
   "mimetype": "text/x-python",
   "name": "python",
   "nbconvert_exporter": "python",
   "pygments_lexer": "ipython3",
   "version": "3.7.8"
  }
 },
 "nbformat": 4,
 "nbformat_minor": 4
}
