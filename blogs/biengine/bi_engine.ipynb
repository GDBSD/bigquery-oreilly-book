{
 "cells": [
  {
   "cell_type": "markdown",
   "metadata": {},
   "source": [
    "## Speeding up BigQuery queries with BI Engine\n",
    "\n",
    "To speed up small queries in BigQuery, simply turn on BI Engine.\n",
    "The Client API remains exactly the same.\n",
    "\n",
    "Accompanies https://medium.com/@lakshmanok/speeding-up-small-queries-in-bigquery-with-bi-engine-4ac8420a2ef0"
   ]
  },
  {
   "cell_type": "code",
   "execution_count": 1,
   "metadata": {},
   "outputs": [],
   "source": [
    "from google.cloud import bigquery\n",
    "from timeit import default_timer as timer\n",
    "from datetime import timedelta\n",
    "\n",
    "# Construct a BigQuery client object.\n",
    "client = bigquery.Client()\n",
    "\n",
    "def run_query(n=5):\n",
    "    tot_slotmillis, tot_timeelapsed = 0, timedelta(0)\n",
    "    for iter in range(n):\n",
    "        query = \"\"\"\n",
    "            SELECT name, state, SUM(number) as total_people\n",
    "            FROM `bigquery-public-data.usa_names.usa_1910_2013`\n",
    "            GROUP BY name, state\n",
    "            ORDER BY total_people DESC\n",
    "            LIMIT 20\n",
    "        \"\"\"\n",
    "        query_job = client.query(query, bigquery.job.QueryJobConfig(use_query_cache=False))\n",
    "        df = query_job.result().to_dataframe()\n",
    "        tot_timeelapsed += (query_job.ended - query_job.started)\n",
    "        tot_slotmillis += query_job.slot_millis\n",
    "    print(\"Job stat: slot_mills={} server_time={}\".format(tot_slotmillis/n, tot_timeelapsed/n))"
   ]
  },
  {
   "cell_type": "markdown",
   "metadata": {},
   "source": [
    "Here, I'm running the query without BI Engine turned on."
   ]
  },
  {
   "cell_type": "code",
   "execution_count": 2,
   "metadata": {},
   "outputs": [
    {
     "name": "stdout",
     "output_type": "stream",
     "text": [
      "Job stat: slot_mills=6336.8 server_time=0:00:04.547600\n"
     ]
    }
   ],
   "source": [
    "run_query()"
   ]
  },
  {
   "cell_type": "markdown",
   "metadata": {},
   "source": [
    "Then, I went to the web console and turned on a 1 GB BI Engine reservation (monthly cost: $30).\n",
    "Note: It seems to take about 3 minutes for the memory to become available, so this is something\n",
    "you should consider doing for a few hours at least, not on a per-query basis."
   ]
  },
  {
   "cell_type": "code",
   "execution_count": 17,
   "metadata": {},
   "outputs": [
    {
     "name": "stdout",
     "output_type": "stream",
     "text": [
      "Job stat: slot_mills=1610.2 server_time=0:00:01.188300\n"
     ]
    }
   ],
   "source": [
    "run_query()"
   ]
  },
  {
   "cell_type": "markdown",
   "metadata": {},
   "source": [
    "As you can see, I got a 4x speedup! My code did not change."
   ]
  },
  {
   "cell_type": "markdown",
   "metadata": {},
   "source": [
    "Copyright 2021 Google Inc. Licensed under the Apache License, Version 2.0 (the \"License\"); you may not use this file except in compliance with the License. You may obtain a copy of the License at http://www.apache.org/licenses/LICENSE-2.0 Unless required by applicable law or agreed to in writing, software distributed under the License is distributed on an \"AS IS\" BASIS, WITHOUT WARRANTIES OR CONDITIONS OF ANY KIND, either express or implied. See the License for the specific language governing permissions and limitations under the License"
   ]
  }
 ],
 "metadata": {
  "environment": {
   "name": "tf2-2-3-gpu.2-3.m59",
   "type": "gcloud",
   "uri": "gcr.io/deeplearning-platform-release/tf2-2-3-gpu.2-3:m59"
  },
  "kernelspec": {
   "display_name": "Python 3",
   "language": "python",
   "name": "python3"
  },
  "language_info": {
   "codemirror_mode": {
    "name": "ipython",
    "version": 3
   },
   "file_extension": ".py",
   "mimetype": "text/x-python",
   "name": "python",
   "nbconvert_exporter": "python",
   "pygments_lexer": "ipython3",
   "version": "3.7.8"
  }
 },
 "nbformat": 4,
 "nbformat_minor": 4
}
