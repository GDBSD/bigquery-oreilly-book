{
 "cells": [
  {
   "cell_type": "markdown",
   "metadata": {},
   "source": [
    "## Speeding up BigQuery queries with BI Engine\n",
    "\n",
    "To speed up small queries in BigQuery, simply turn on BI Engine.\n",
    "The Client API remains exactly the same.\n",
    "\n",
    "Accompanies https://medium.com/@lakshmanok/speeding-up-small-queries-in-bigquery-with-bi-engine-4ac8420a2ef0\n",
    "\n",
    "#### Queries"
   ]
  },
  {
   "cell_type": "code",
   "execution_count": 1,
   "metadata": {},
   "outputs": [],
   "source": [
    "from google.cloud import bigquery\n",
    "from timeit import default_timer as timer\n",
    "from datetime import timedelta\n",
    "\n",
    "def show_query(query):\n",
    "    client = bigquery.Client()\n",
    "    query_job = client.query(query, bigquery.job.QueryJobConfig(use_query_cache=False))\n",
    "    df = query_job.result().to_dataframe()\n",
    "    print(\"Compute: {} slotms Bytes: {:.1f} MB\".format(query_job.slot_millis, query_job.total_bytes_processed/(1024*1024)))\n",
    "    return df"
   ]
  },
  {
   "cell_type": "markdown",
   "metadata": {},
   "source": [
    "This query finds the average prescription claim by state."
   ]
  },
  {
   "cell_type": "code",
   "execution_count": 2,
   "metadata": {},
   "outputs": [
    {
     "name": "stdout",
     "output_type": "stream",
     "text": [
      "Compute: 11103 slotms Bytes: 460.1 MB\n"
     ]
    },
    {
     "data": {
      "text/html": [
       "<div>\n",
       "<style scoped>\n",
       "    .dataframe tbody tr th:only-of-type {\n",
       "        vertical-align: middle;\n",
       "    }\n",
       "\n",
       "    .dataframe tbody tr th {\n",
       "        vertical-align: top;\n",
       "    }\n",
       "\n",
       "    .dataframe thead th {\n",
       "        text-align: right;\n",
       "    }\n",
       "</style>\n",
       "<table border=\"1\" class=\"dataframe\">\n",
       "  <thead>\n",
       "    <tr style=\"text-align: right;\">\n",
       "      <th></th>\n",
       "      <th>nppes_provider_state</th>\n",
       "      <th>avg_cost</th>\n",
       "    </tr>\n",
       "  </thead>\n",
       "  <tbody>\n",
       "    <tr>\n",
       "      <th>0</th>\n",
       "      <td>DC</td>\n",
       "      <td>129.704640</td>\n",
       "    </tr>\n",
       "    <tr>\n",
       "      <th>1</th>\n",
       "      <td>DE</td>\n",
       "      <td>103.058334</td>\n",
       "    </tr>\n",
       "    <tr>\n",
       "      <th>2</th>\n",
       "      <td>NJ</td>\n",
       "      <td>101.909741</td>\n",
       "    </tr>\n",
       "    <tr>\n",
       "      <th>3</th>\n",
       "      <td>NY</td>\n",
       "      <td>94.530195</td>\n",
       "    </tr>\n",
       "    <tr>\n",
       "      <th>4</th>\n",
       "      <td>CT</td>\n",
       "      <td>94.155857</td>\n",
       "    </tr>\n",
       "    <tr>\n",
       "      <th>5</th>\n",
       "      <td>MD</td>\n",
       "      <td>93.189677</td>\n",
       "    </tr>\n",
       "    <tr>\n",
       "      <th>6</th>\n",
       "      <td>HI</td>\n",
       "      <td>90.566499</td>\n",
       "    </tr>\n",
       "    <tr>\n",
       "      <th>7</th>\n",
       "      <td>TX</td>\n",
       "      <td>85.389806</td>\n",
       "    </tr>\n",
       "    <tr>\n",
       "      <th>8</th>\n",
       "      <td>CA</td>\n",
       "      <td>82.732257</td>\n",
       "    </tr>\n",
       "    <tr>\n",
       "      <th>9</th>\n",
       "      <td>MI</td>\n",
       "      <td>80.927364</td>\n",
       "    </tr>\n",
       "  </tbody>\n",
       "</table>\n",
       "</div>"
      ],
      "text/plain": [
       "  nppes_provider_state    avg_cost\n",
       "0                   DC  129.704640\n",
       "1                   DE  103.058334\n",
       "2                   NJ  101.909741\n",
       "3                   NY   94.530195\n",
       "4                   CT   94.155857\n",
       "5                   MD   93.189677\n",
       "6                   HI   90.566499\n",
       "7                   TX   85.389806\n",
       "8                   CA   82.732257\n",
       "9                   MI   80.927364"
      ]
     },
     "execution_count": 2,
     "metadata": {},
     "output_type": "execute_result"
    }
   ],
   "source": [
    "COST_BY_STATE=\"\"\"\n",
    "    SELECT \n",
    "       nppes_provider_state, SUM(total_drug_cost)/SUM(total_claim_count) AS avg_cost\n",
    "    FROM `bigquery-public-data.medicare.part_d_prescriber_2014`\n",
    "    GROUP BY 1\n",
    "    ORDER BY 2 DESC\n",
    "    LIMIT 10\n",
    "\"\"\"\n",
    "show_query(COST_BY_STATE)"
   ]
  },
  {
   "cell_type": "markdown",
   "metadata": {},
   "source": [
    "This query finds the average tip based on payment type."
   ]
  },
  {
   "cell_type": "code",
   "execution_count": 3,
   "metadata": {},
   "outputs": [
    {
     "name": "stdout",
     "output_type": "stream",
     "text": [
      "Compute: 60073 slotms Bytes: 3142.0 MB\n"
     ]
    },
    {
     "data": {
      "text/html": [
       "<div>\n",
       "<style scoped>\n",
       "    .dataframe tbody tr th:only-of-type {\n",
       "        vertical-align: middle;\n",
       "    }\n",
       "\n",
       "    .dataframe tbody tr th {\n",
       "        vertical-align: top;\n",
       "    }\n",
       "\n",
       "    .dataframe thead th {\n",
       "        text-align: right;\n",
       "    }\n",
       "</style>\n",
       "<table border=\"1\" class=\"dataframe\">\n",
       "  <thead>\n",
       "    <tr style=\"text-align: right;\">\n",
       "      <th></th>\n",
       "      <th>payment_type</th>\n",
       "      <th>avg_tip</th>\n",
       "    </tr>\n",
       "  </thead>\n",
       "  <tbody>\n",
       "    <tr>\n",
       "      <th>0</th>\n",
       "      <td>Credit Card</td>\n",
       "      <td>3.387041</td>\n",
       "    </tr>\n",
       "    <tr>\n",
       "      <th>1</th>\n",
       "      <td>Split</td>\n",
       "      <td>3.201069</td>\n",
       "    </tr>\n",
       "    <tr>\n",
       "      <th>2</th>\n",
       "      <td>Mobile</td>\n",
       "      <td>3.090545</td>\n",
       "    </tr>\n",
       "    <tr>\n",
       "      <th>3</th>\n",
       "      <td>Way2ride</td>\n",
       "      <td>2.411479</td>\n",
       "    </tr>\n",
       "    <tr>\n",
       "      <th>4</th>\n",
       "      <td>No Charge</td>\n",
       "      <td>0.713678</td>\n",
       "    </tr>\n",
       "    <tr>\n",
       "      <th>5</th>\n",
       "      <td>Pcard</td>\n",
       "      <td>0.232626</td>\n",
       "    </tr>\n",
       "    <tr>\n",
       "      <th>6</th>\n",
       "      <td>Unknown</td>\n",
       "      <td>0.204928</td>\n",
       "    </tr>\n",
       "    <tr>\n",
       "      <th>7</th>\n",
       "      <td>Prcard</td>\n",
       "      <td>0.177203</td>\n",
       "    </tr>\n",
       "    <tr>\n",
       "      <th>8</th>\n",
       "      <td>Dispute</td>\n",
       "      <td>0.008203</td>\n",
       "    </tr>\n",
       "    <tr>\n",
       "      <th>9</th>\n",
       "      <td>Prepaid</td>\n",
       "      <td>0.008201</td>\n",
       "    </tr>\n",
       "    <tr>\n",
       "      <th>10</th>\n",
       "      <td>Cash</td>\n",
       "      <td>0.004742</td>\n",
       "    </tr>\n",
       "  </tbody>\n",
       "</table>\n",
       "</div>"
      ],
      "text/plain": [
       "   payment_type   avg_tip\n",
       "0   Credit Card  3.387041\n",
       "1         Split  3.201069\n",
       "2        Mobile  3.090545\n",
       "3      Way2ride  2.411479\n",
       "4     No Charge  0.713678\n",
       "5         Pcard  0.232626\n",
       "6       Unknown  0.204928\n",
       "7        Prcard  0.177203\n",
       "8       Dispute  0.008203\n",
       "9       Prepaid  0.008201\n",
       "10         Cash  0.004742"
      ]
     },
     "execution_count": 3,
     "metadata": {},
     "output_type": "execute_result"
    }
   ],
   "source": [
    "TIPS_BY_TYPE=\"\"\"\n",
    "SELECT payment_type, AVG(tips) AS avg_tip\n",
    "FROM bigquery-public-data.chicago_taxi_trips.taxi_trips\n",
    "GROUP BY 1\n",
    "ORDER BY 2 DESC\n",
    "\"\"\"\n",
    "show_query(TIPS_BY_TYPE)"
   ]
  },
  {
   "cell_type": "markdown",
   "metadata": {},
   "source": [
    "This query uses a discrete number for grouping and will be inherently faster than the names queries (which use strings).\n",
    "This query finds the sites with the worst (on average) air quality"
   ]
  },
  {
   "cell_type": "code",
   "execution_count": 4,
   "metadata": {},
   "outputs": [
    {
     "name": "stdout",
     "output_type": "stream",
     "text": [
      "Compute: 1272 slotms Bytes: 104.2 MB\n"
     ]
    },
    {
     "data": {
      "text/html": [
       "<div>\n",
       "<style scoped>\n",
       "    .dataframe tbody tr th:only-of-type {\n",
       "        vertical-align: middle;\n",
       "    }\n",
       "\n",
       "    .dataframe tbody tr th {\n",
       "        vertical-align: top;\n",
       "    }\n",
       "\n",
       "    .dataframe thead th {\n",
       "        text-align: right;\n",
       "    }\n",
       "</style>\n",
       "<table border=\"1\" class=\"dataframe\">\n",
       "  <thead>\n",
       "    <tr style=\"text-align: right;\">\n",
       "      <th></th>\n",
       "      <th>site_num</th>\n",
       "      <th>state</th>\n",
       "      <th>air_quality_index</th>\n",
       "    </tr>\n",
       "  </thead>\n",
       "  <tbody>\n",
       "    <tr>\n",
       "      <th>0</th>\n",
       "      <td>8012</td>\n",
       "      <td>Country Of Mexico</td>\n",
       "      <td>81.027027</td>\n",
       "    </tr>\n",
       "    <tr>\n",
       "      <th>1</th>\n",
       "      <td>3013</td>\n",
       "      <td>Arizona</td>\n",
       "      <td>68.102236</td>\n",
       "    </tr>\n",
       "    <tr>\n",
       "      <th>2</th>\n",
       "      <td>7030</td>\n",
       "      <td>Arizona</td>\n",
       "      <td>61.595819</td>\n",
       "    </tr>\n",
       "    <tr>\n",
       "      <th>3</th>\n",
       "      <td>3015</td>\n",
       "      <td>Arizona</td>\n",
       "      <td>57.420390</td>\n",
       "    </tr>\n",
       "    <tr>\n",
       "      <th>4</th>\n",
       "      <td>0241</td>\n",
       "      <td>California</td>\n",
       "      <td>54.416667</td>\n",
       "    </tr>\n",
       "    <tr>\n",
       "      <th>5</th>\n",
       "      <td>3008</td>\n",
       "      <td>Pennsylvania</td>\n",
       "      <td>51.125606</td>\n",
       "    </tr>\n",
       "    <tr>\n",
       "      <th>6</th>\n",
       "      <td>0149</td>\n",
       "      <td>Pennsylvania</td>\n",
       "      <td>49.254864</td>\n",
       "    </tr>\n",
       "    <tr>\n",
       "      <th>7</th>\n",
       "      <td>1999</td>\n",
       "      <td>California</td>\n",
       "      <td>48.589238</td>\n",
       "    </tr>\n",
       "    <tr>\n",
       "      <th>8</th>\n",
       "      <td>2306</td>\n",
       "      <td>Guam</td>\n",
       "      <td>46.846154</td>\n",
       "    </tr>\n",
       "    <tr>\n",
       "      <th>9</th>\n",
       "      <td>3011</td>\n",
       "      <td>Arizona</td>\n",
       "      <td>45.814396</td>\n",
       "    </tr>\n",
       "  </tbody>\n",
       "</table>\n",
       "</div>"
      ],
      "text/plain": [
       "  site_num              state  air_quality_index\n",
       "0     8012  Country Of Mexico          81.027027\n",
       "1     3013            Arizona          68.102236\n",
       "2     7030            Arizona          61.595819\n",
       "3     3015            Arizona          57.420390\n",
       "4     0241         California          54.416667\n",
       "5     3008       Pennsylvania          51.125606\n",
       "6     0149       Pennsylvania          49.254864\n",
       "7     1999         California          48.589238\n",
       "8     2306               Guam          46.846154\n",
       "9     3011            Arizona          45.814396"
      ]
     },
     "execution_count": 4,
     "metadata": {},
     "output_type": "execute_result"
    }
   ],
   "source": [
    "AIR_QUALITY=\"\"\"\n",
    "            SELECT\n",
    "               site_num,\n",
    "               ANY_VALUE(state_name) AS state,\n",
    "               AVG(aqi) as air_quality_index,\n",
    "            FROM `bigquery-public-data.epa_historical_air_quality.pm10_daily_summary`\n",
    "            GROUP BY site_num\n",
    "            ORDER BY air_quality_index DESC\n",
    "            LIMIT 10\n",
    "\"\"\"\n",
    "show_query(AIR_QUALITY)"
   ]
  },
  {
   "cell_type": "markdown",
   "metadata": {},
   "source": [
    "### Without BI Engine\n",
    "\n",
    "Time it. Note that I am measuring the time taken on the server\n",
    "using query_job.started and query_job.ended.\n",
    "This takes out variability due to the time it takes to send the query\n",
    "over the network to the BigQuery API."
   ]
  },
  {
   "cell_type": "code",
   "execution_count": 6,
   "metadata": {},
   "outputs": [],
   "source": [
    "from google.cloud import bigquery\n",
    "from timeit import default_timer as timer\n",
    "from datetime import timedelta\n",
    "\n",
    "# Construct a BigQuery client object.\n",
    "client = bigquery.Client()\n",
    "\n",
    "def run_query(query, n=5):\n",
    "    tot_slotmillis, tot_timeelapsed = 0, timedelta(0)\n",
    "    for iter in range(n):\n",
    "        query_job = client.query(query, bigquery.job.QueryJobConfig(use_query_cache=False))\n",
    "        df = query_job.result().to_dataframe()\n",
    "        tot_timeelapsed += (query_job.ended - query_job.started)\n",
    "        tot_slotmillis += query_job.slot_millis\n",
    "    print(\"Job stat: slot_mills={} server_time={}\".format(tot_slotmillis/n, tot_timeelapsed/n))"
   ]
  },
  {
   "cell_type": "markdown",
   "metadata": {},
   "source": [
    "Here, I'm running the query without BI Engine turned on."
   ]
  },
  {
   "cell_type": "code",
   "execution_count": 7,
   "metadata": {},
   "outputs": [
    {
     "name": "stdout",
     "output_type": "stream",
     "text": [
      "Job stat: slot_mills=6425.2 server_time=0:00:00.611400\n"
     ]
    }
   ],
   "source": [
    "run_query(COST_BY_STATE)"
   ]
  },
  {
   "cell_type": "code",
   "execution_count": 8,
   "metadata": {},
   "outputs": [
    {
     "name": "stdout",
     "output_type": "stream",
     "text": [
      "Job stat: slot_mills=47012.2 server_time=0:00:00.829200\n"
     ]
    }
   ],
   "source": [
    "run_query(TIPS_BY_TYPE)"
   ]
  },
  {
   "cell_type": "code",
   "execution_count": 9,
   "metadata": {},
   "outputs": [
    {
     "name": "stdout",
     "output_type": "stream",
     "text": [
      "Job stat: slot_mills=1067.8 server_time=0:00:00.510400\n"
     ]
    }
   ],
   "source": [
    "run_query(AIR_QUALITY)"
   ]
  },
  {
   "cell_type": "markdown",
   "metadata": {},
   "source": [
    "The slot milliseconds is a proxy for the cost if you have a reservation -- it measures how much your BigQuery slots are getting used.\n",
    "The server_time is the time taken to process the request (we don't measure the network roundtrip time because it's going to be the\n",
    "same whether or not you use BI Engine).\n",
    "\n",
    "### With BI Engine\n",
    "\n",
    "Then, I went to the web console and turned on a 10 GB BI Engine reservation (monthly cost: $300).\n",
    "Note: It seems to take about 3 minutes for the memory to become available, so this is something\n",
    "you should consider doing for a few hours at least, not on a per-query basis."
   ]
  },
  {
   "cell_type": "code",
   "execution_count": 31,
   "metadata": {},
   "outputs": [
    {
     "name": "stdout",
     "output_type": "stream",
     "text": [
      "Job stat: slot_mills=324.2 server_time=0:00:00.253200\n"
     ]
    }
   ],
   "source": [
    "run_query(COST_BY_STATE)"
   ]
  },
  {
   "cell_type": "code",
   "execution_count": 32,
   "metadata": {},
   "outputs": [
    {
     "name": "stdout",
     "output_type": "stream",
     "text": [
      "Job stat: slot_mills=4036.8 server_time=0:00:00.377400\n"
     ]
    }
   ],
   "source": [
    "run_query(TIPS_BY_TYPE)"
   ]
  },
  {
   "cell_type": "code",
   "execution_count": 33,
   "metadata": {},
   "outputs": [
    {
     "name": "stdout",
     "output_type": "stream",
     "text": [
      "Job stat: slot_mills=132.0 server_time=0:00:00.267200\n"
     ]
    }
   ],
   "source": [
    "run_query(AIR_QUALITY)"
   ]
  },
  {
   "cell_type": "markdown",
   "metadata": {},
   "source": [
    "As you can see, I got cost improvements of 8x to 20x and time improvements of 2x to 2.5x. My code did not change."
   ]
  },
  {
   "cell_type": "markdown",
   "metadata": {},
   "source": [
    "Copyright 2021 Google Inc. Licensed under the Apache License, Version 2.0 (the \"License\"); you may not use this file except in compliance with the License. You may obtain a copy of the License at http://www.apache.org/licenses/LICENSE-2.0 Unless required by applicable law or agreed to in writing, software distributed under the License is distributed on an \"AS IS\" BASIS, WITHOUT WARRANTIES OR CONDITIONS OF ANY KIND, either express or implied. See the License for the specific language governing permissions and limitations under the License"
   ]
  }
 ],
 "metadata": {
  "environment": {
   "name": "tf2-2-3-gpu.2-3.m59",
   "type": "gcloud",
   "uri": "gcr.io/deeplearning-platform-release/tf2-2-3-gpu.2-3:m59"
  },
  "kernelspec": {
   "display_name": "Python 3",
   "language": "python",
   "name": "python3"
  },
  "language_info": {
   "codemirror_mode": {
    "name": "ipython",
    "version": 3
   },
   "file_extension": ".py",
   "mimetype": "text/x-python",
   "name": "python",
   "nbconvert_exporter": "python",
   "pygments_lexer": "ipython3",
   "version": "3.7.8"
  }
 },
 "nbformat": 4,
 "nbformat_minor": 4
}
